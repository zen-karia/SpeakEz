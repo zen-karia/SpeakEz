{
 "cells": [
  {
   "cell_type": "code",
   "execution_count": 3,
   "id": "21611b8b-e0c5-40d6-b5ee-42255b833a34",
   "metadata": {},
   "outputs": [
    {
     "name": "stdout",
     "output_type": "stream",
     "text": [
      "INFO:tensorflow:Assets written to: C:\\Users\\ishaa\\AppData\\Local\\Temp\\tmpmiwak7xe\\assets\n"
     ]
    },
    {
     "name": "stderr",
     "output_type": "stream",
     "text": [
      "INFO:tensorflow:Assets written to: C:\\Users\\ishaa\\AppData\\Local\\Temp\\tmpmiwak7xe\\assets\n"
     ]
    },
    {
     "name": "stdout",
     "output_type": "stream",
     "text": [
      "Saved artifact at 'C:\\Users\\ishaa\\AppData\\Local\\Temp\\tmpmiwak7xe'. The following endpoints are available:\n",
      "\n",
      "* Endpoint 'serve'\n",
      "  args_0 (POSITIONAL_ONLY): TensorSpec(shape=(None, 5, 1), dtype=tf.float32, name='input_layer')\n",
      "Output Type:\n",
      "  TensorSpec(shape=(None, 16), dtype=tf.float32, name=None)\n",
      "Captures:\n",
      "  2397828609328: TensorSpec(shape=(), dtype=tf.resource, name=None)\n",
      "  2397848011344: TensorSpec(shape=(), dtype=tf.resource, name=None)\n",
      "  2397853319584: TensorSpec(shape=(), dtype=tf.resource, name=None)\n",
      "  2397853326800: TensorSpec(shape=(), dtype=tf.resource, name=None)\n",
      "  2397853320992: TensorSpec(shape=(), dtype=tf.resource, name=None)\n",
      "  2397853325744: TensorSpec(shape=(), dtype=tf.resource, name=None)\n",
      "  2397853329616: TensorSpec(shape=(), dtype=tf.resource, name=None)\n",
      "  2397853329792: TensorSpec(shape=(), dtype=tf.resource, name=None)\n"
     ]
    },
    {
     "name": "stderr",
     "output_type": "stream",
     "text": [
      "C:\\Users\\ishaa\\AppData\\Local\\Programs\\Python\\Python310\\lib\\site-packages\\tensorflow\\lite\\python\\convert.py:854: UserWarning: Statistics for quantized inputs were expected, but not specified; continuing anyway.\n",
      "  warnings.warn(\n"
     ]
    }
   ],
   "source": [
    "import tensorflow as tf\n",
    "import numpy as np\n",
    "\n",
    "model = tf.keras.models.load_model(\"glove_cnn_model.keras\")\n",
    "\n",
    "def representative_datasetgen():\n",
    "    for _ in range(100):\n",
    "        dummy_input = np.random.uniform(0, 4095, size=(1, 5, 1)).astype(np.float32)\n",
    "        yield [dummy_input]\n",
    "\n",
    "converter = tf.lite.TFLiteConverter.from_keras_model(model)\n",
    "converter.optimizations = [tf.lite.Optimize.DEFAULT]\n",
    "converter.representative_dataset = representative_datasetgen\n",
    "converter.target_spec.supported_ops = [tf.lite.OpsSet.TFLITE_BUILTINS_INT8]\n",
    "converter.inference_input_type = tf.int8\n",
    "converter.inference_output_type = tf.int8\n",
    "\n",
    "quantized_model = converter.convert()\n",
    "\n",
    "with open(\"glove_cnn_int8.tflite\", \"wb\") as f:\n",
    "    f.write(quantized_model)\n"
   ]
  },
  {
   "cell_type": "code",
   "execution_count": null,
   "id": "b02d3532-a06b-419e-b329-6a49ca25f561",
   "metadata": {},
   "outputs": [],
   "source": []
  }
 ],
 "metadata": {
  "kernelspec": {
   "display_name": "Python 3.10 (TF)",
   "language": "python",
   "name": "py310"
  },
  "language_info": {
   "codemirror_mode": {
    "name": "ipython",
    "version": 3
   },
   "file_extension": ".py",
   "mimetype": "text/x-python",
   "name": "python",
   "nbconvert_exporter": "python",
   "pygments_lexer": "ipython3",
   "version": "3.10.0"
  }
 },
 "nbformat": 4,
 "nbformat_minor": 5
}
